{
 "cells": [
  {
   "cell_type": "code",
   "id": "initial_id",
   "metadata": {
    "collapsed": true,
    "ExecuteTime": {
     "end_time": "2024-05-06T16:53:10.043071Z",
     "start_time": "2024-05-06T16:53:09.747011Z"
    }
   },
   "source": [
    "import pandas as pd\n",
    "from sklearn.model_selection import train_test_split\n",
    "from sklearn.ensemble import RandomForestClassifier\n",
    "from sklearn import metrics\n",
    "import matplotlib.pyplot as plt\n",
    "\n",
    "#dataset load\n",
    "data = pd.read_csv('C:\\\\Users\\\\MuxtorovicH\\\\Desktop\\\\diabetes.csv')\n",
    "#data preparation\n",
    "x = data.drop('Outcome', axis=1)\n",
    "y = data['Outcome']\n",
    "\n",
    "x_train, x_test, y_train, y_test = train_test_split(x, y, test_size=0.25, random_state=0)\n",
    "#model creation\n",
    "model = RandomForestClassifier(n_estimators=100, criterion='entropy', max_depth=6, random_state=0)\n",
    "#model training\n",
    "model.fit(x_train, y_train)\n",
    "#predict\n",
    "y_pred = model.predict(x_test)\n",
    "#evaluation\n",
    "accuracy = metrics.accuracy_score(y_test, y_pred)\n",
    "print('Accuracy: ', accuracy * 100)\n",
    "\n",
    "report = metrics.classification_report(y_test, y_pred)\n",
    "print('Report', report)\n",
    "\n",
    "matrix = metrics.confusion_matrix(y_test, y_pred)\n",
    "print('Confusion Matrix', matrix)\n",
    "\n",
    "y_pred_proba = model.predict_proba(x_test)[:, 1]\n",
    "fpr, tpr, _ = metrics.roc_curve(y_test, y_pred_proba)\n",
    "auc = metrics.roc_auc_score(y_test, y_pred_proba)\n",
    "plt.plot(fpr, tpr, label=f\"AUC={str(auc)}\")\n",
    "plt.legend(loc=4)\n",
    "plt.show()"
   ],
   "execution_count": 3,
   "outputs": []
  }
 ],
 "metadata": {
  "kernelspec": {
   "display_name": "Python 3",
   "language": "python",
   "name": "python3"
  },
  "language_info": {
   "codemirror_mode": {
    "name": "ipython",
    "version": 2
   },
   "file_extension": ".py",
   "mimetype": "text/x-python",
   "name": "python",
   "nbconvert_exporter": "python",
   "pygments_lexer": "ipython2",
   "version": "2.7.6"
  }
 },
 "nbformat": 4,
 "nbformat_minor": 5
}
