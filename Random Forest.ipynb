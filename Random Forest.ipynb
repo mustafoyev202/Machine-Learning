{
 "cells": [
  {
   "cell_type": "code",
   "id": "initial_id",
   "metadata": {
    "collapsed": true,
    "ExecuteTime": {
     "end_time": "2024-05-06T16:44:16.377253Z",
     "start_time": "2024-05-06T16:44:16.091539Z"
    }
   },
   "source": [
    "import pandas as pd\n",
    "from sklearn.model_selection import train_test_split\n",
    "from sklearn.ensemble import RandomForestClassifier\n",
    "from sklearn import metrics\n",
    "import matplotlib.pyplot as plt\n",
    "\n",
    "#dataset load\n",
    "data = pd.read_csv('C:\\\\Users\\\\MuxtorovicH\\\\Desktop\\\\diabetes.csv')\n",
    "#data preparation\n",
    "x = data.drop('Outcome', axis=1)\n",
    "y = data['Outcome']\n",
    "\n",
    "x_train, x_test, y_train, y_test = train_test_split(x, y, test_size=0.25, random_state=0)\n",
    "#model creation\n",
    "model = RandomForestClassifier(n_estimators=100, criterion='entropy', max_depth=6, random_state=0)\n",
    "#model training\n",
    "model.fit(x_train, y_train)\n",
    "#predict\n",
    "y_pred = model.predict(x_test)\n",
    "#evaluation\n",
    "accuracy = metrics.accuracy_score(y_test, y_pred)\n",
    "print('Accuracy: ', accuracy * 100)\n",
    "\n",
    "report = metrics.classification_report(y_test, y_pred)\n",
    "print('Report', report)\n",
    "\n",
    "matrix = metrics.confusion_matrix(y_test, y_pred)\n",
    "print('Confusion Matrix', matrix)\n",
    "\n",
    "y_pred_proba = model.predict_proba(x_test)[:, 1]\n",
    "fpr, tpr, _ = metrics.roc_curve(y_test, y_pred_proba)\n",
    "auc = metrics.roc_auc_score(y_test, y_pred_proba)\n",
    "plt.plot(fpr, tpr, label=f\"AUC={str(auc)}\")\n",
    "plt.legend(loc=4)\n",
    "plt.show()"
   ],
   "outputs": [
    {
     "name": "stdout",
     "output_type": "stream",
     "text": [
      "Accuracy:  79.6875\n",
      "Report               precision    recall  f1-score   support\n",
      "\n",
      "           0       0.81      0.92      0.86       130\n",
      "           1       0.77      0.53      0.63        62\n",
      "\n",
      "    accuracy                           0.80       192\n",
      "   macro avg       0.79      0.73      0.74       192\n",
      "weighted avg       0.79      0.80      0.79       192\n",
      "\n",
      "Confusion Matrix [[120  10]\n",
      " [ 29  33]]\n"
     ]
    },
    {
     "data": {
      "text/plain": [
       "<Figure size 640x480 with 1 Axes>"
      ],
      "image/png": "[encoded data removed]"
     },
     "metadata": {},
     "output_type": "display_data"
    }
   ],
   "execution_count": 2
  },
  {
   "metadata": {},
   "cell_type": "code",
   "outputs": [],
   "execution_count": null,
   "source": "",
   "id": "d9c8c52b0c709144"
  }
 ],
 "metadata": {
  "kernelspec": {
   "display_name": "Python 3",
   "language": "python",
   "name": "python3"
  },
  "language_info": {
   "codemirror_mode": {
    "name": "ipython",
    "version": 2
   },
   "file_extension": ".py",
   "mimetype": "text/x-python",
   "name": "python",
   "nbconvert_exporter": "python",
   "pygments_lexer": "ipython2",
   "version": "2.7.6"
  }
 },
 "nbformat": 4,
 "nbformat_minor": 5
}
