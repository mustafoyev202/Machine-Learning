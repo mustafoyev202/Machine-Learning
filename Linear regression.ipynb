{
 "cells": [
  {
   "cell_type": "code",
   "id": "initial_id",
   "metadata": {
    "collapsed": true,
    "ExecuteTime": {
     "end_time": "2024-05-10T13:15:26.908576Z",
     "start_time": "2024-05-10T13:15:26.870574Z"
    }
   },
   "source": [
    "import pandas as pd\n",
    "\n",
    "data = pd.read_csv('C:\\\\Users\\\\MuxtorovicH\\\\Desktop\\\\iris.csv')\n",
    "data"
   ],
   "execution_count": 2,
   "outputs": []
  },
  {
   "metadata": {
    "ExecuteTime": {
     "end_time": "2024-05-10T13:15:28.505562Z",
     "start_time": "2024-05-10T13:15:28.148060Z"
    }
   },
   "cell_type": "code",
   "source": [
    "import matplotlib.pyplot as plt\n",
    "import seaborn as sns\n",
    "\n",
    "numeric_data = data.drop(columns=['variety'])\n",
    "data_matrix = numeric_data.corr()\n",
    "sns.heatmap(data_matrix, annot=True, cmap=\"coolwarm\")\n",
    "plt.title(\"Correlation matrix\")\n",
    "plt.show()"
   ],
   "id": "26096bc800e5ae4c",
   "execution_count": 3,
   "outputs": []
  },
  {
   "metadata": {
    "ExecuteTime": {
     "end_time": "2024-05-10T13:15:31.325553Z",
     "start_time": "2024-05-10T13:15:29.549947Z"
    }
   },
   "cell_type": "code",
   "source": [
    "selected_feature = ['sepal.length', 'petal.width']\n",
    "sns.pairplot(data[selected_feature])\n",
    "plt.suptitle(\"Pairplot\")\n",
    "plt.show()"
   ],
   "id": "a9e62beb7f2cc1b2",
   "execution_count": 4,
   "outputs": []
  },
  {
   "metadata": {
    "ExecuteTime": {
     "end_time": "2024-05-10T13:15:32.344082Z",
     "start_time": "2024-05-10T13:15:32.333569Z"
    }
   },
   "cell_type": "code",
   "source": [
    "x = data[['sepal.length']]\n",
    "y = data['sepal.width']\n",
    "x.shape"
   ],
   "id": "68086b4f6be62c0a",
   "execution_count": 5,
   "outputs": []
  },
  {
   "metadata": {
    "ExecuteTime": {
     "end_time": "2024-05-10T13:15:34.686465Z",
     "start_time": "2024-05-10T13:15:33.475009Z"
    }
   },
   "cell_type": "code",
   "source": [
    "from sklearn.linear_model import LinearRegression\n",
    "from sklearn.metrics import mean_absolute_error, mean_squared_error, r2_score\n",
    "from sklearn.model_selection import train_test_split\n",
    "\n",
    "model = LinearRegression()\n",
    "\n",
    "x_train, x_test, y_train, y_test = train_test_split(x, y, test_size=0.3, random_state=55)\n",
    "model.fit(x, y)\n",
    "y_pred = model.predict(x_test)\n",
    "mse = mean_squared_error(y_test, y_pred)\n",
    "mae = mean_absolute_error(y_test, y_pred)\n",
    "r2 = r2_score(y_test, y_pred)\n",
    "print(mse)\n",
    "print(mae)\n",
    "print(r2)"
   ],
   "id": "677f50504d9eb59b",
   "execution_count": 6,
   "outputs": []
  },
  {
   "metadata": {
    "ExecuteTime": {
     "end_time": "2024-05-10T13:15:35.930762Z",
     "start_time": "2024-05-10T13:15:35.683952Z"
    }
   },
   "cell_type": "code",
   "source": [
    "plt.scatter(x_test, y_test, c='orange', label=\"Actual data\")\n",
    "plt.plot(x_test, y_pred, linewidth=2, label='LR')\n",
    "plt.xlabel('x-axis')\n",
    "plt.ylabel('y-axis')\n",
    "plt.legend(loc='best')\n",
    "plt.show()"
   ],
   "id": "e07f1ab21da9a4c6",
   "execution_count": 7,
   "outputs": []
  },
  {
   "metadata": {
    "ExecuteTime": {
     "end_time": "2024-05-10T13:15:36.927147Z",
     "start_time": "2024-05-10T13:15:36.902553Z"
    }
   },
   "cell_type": "code",
   "source": [
    "x = data[['sepal.length', 'petal.length']]\n",
    "y = data['sepal.width']\n",
    "\n",
    "from sklearn.linear_model import LinearRegression\n",
    "from sklearn.metrics import mean_absolute_error, mean_squared_error, r2_score\n",
    "from sklearn.model_selection import train_test_split\n",
    "\n",
    "model = LinearRegression()\n",
    "\n",
    "x_trains, x_test, y_trains, y_test = train_test_split(x, y, test_size=0.3, random_state=55)\n",
    "model.fit(x_trains, y_trains)\n",
    "y_pred = model.predict(x_test)\n",
    "mse = mean_squared_error(y_test, y_pred)\n",
    "mae = mean_absolute_error(y_test, y_pred)\n",
    "r2 = r2_score(y_test, y_pred)\n",
    "print(mse)\n",
    "print(mae)\n",
    "print(r2)\n",
    "\n"
   ],
   "id": "be288229d392b585",
   "execution_count": 8,
   "outputs": []
  },
  {
   "metadata": {
    "ExecuteTime": {
     "end_time": "2024-05-10T13:15:38.712238Z",
     "start_time": "2024-05-10T13:15:38.235568Z"
    }
   },
   "cell_type": "code",
   "source": [
    "import numpy as np\n",
    "\n",
    "fig = plt.figure(figsize=(10, 10))\n",
    "ax = fig.add_subplot(111, projection='3d')\n",
    "ax.scatter(x_test['sepal.length'], x_test['petal.length'], y_test, marker='o', color='blue', label='Actual data')\n",
    "sl_range = np.linspace(x_test['sepal.length'].min(), x_test['sepal.length'].max(), 50)\n",
    "pl_range = np.linspace(x_test['petal.length'].min(), x_test['petal.length'].max(), 50)\n",
    "sl_range, pl_range = np.meshgrid(sl_range, pl_range)\n",
    "\n",
    "sw_range = model.predict(pd.DataFrame({'sepal.length': sl_range.flatten(), 'petal.length': pl_range.flatten()}))\n",
    "sw_range = sw_range.reshape(sl_range.shape)\n",
    "\n",
    "ax.plot_surface(sl_range, pl_range, sw_range, color='red', alpha=0.7, label='Data')\n",
    "ax.set_xlabel('sepal.length')\n",
    "ax.set_ylabel('penal.length')\n",
    "ax.set_zlabel('sepal.width')\n",
    "plt.title(\"3d plot\")\n",
    "plt.show()"
   ],
   "id": "802ec7acf831f414",
   "execution_count": 9,
   "outputs": []
  },
  {
   "metadata": {},
   "cell_type": "code",
   "execution_count": null,
   "source": "",
   "id": "4d1021c05af836d9",
   "outputs": []
  }
 ],
 "metadata": {
  "kernelspec": {
   "display_name": "Python 3",
   "language": "python",
   "name": "python3"
  },
  "language_info": {
   "codemirror_mode": {
    "name": "ipython",
    "version": 2
   },
   "file_extension": ".py",
   "mimetype": "text/x-python",
   "name": "python",
   "nbconvert_exporter": "python",
   "pygments_lexer": "ipython2",
   "version": "2.7.6"
  }
 },
 "nbformat": 4,
 "nbformat_minor": 5
}
