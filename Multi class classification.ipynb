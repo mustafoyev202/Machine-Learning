{
 "cells": [
  {
   "metadata": {
    "ExecuteTime": {
     "end_time": "2024-05-05T10:02:08.894001Z",
     "start_time": "2024-05-05T10:02:08.746993Z"
    }
   },
   "cell_type": "code",
   "source": [
    "import pandas as pd\n",
    "from sklearn.model_selection import train_test_split\n",
    "from sklearn.linear_model import LogisticRegression\n",
    "from sklearn import metrics\n",
    "from sklearn.preprocessing import MinMaxScaler\n",
    "import matplotlib.pyplot as plt\n",
    "\n",
    "data = pd.read_csv('C:\\\\Users\\\\MuxtorovicH\\\\Desktop\\\\fish.csv')\n",
    "\n",
    "x = data.drop('Species', axis=1)\n",
    "y = data['Species']\n",
    "\n",
    "x_train, x_test, y_train, y_test = train_test_split(x, y, test_size=0.25, random_state=42)\n",
    "\n",
    "#data preprocessing\n",
    "# scaler = MinMaxScaler()\n",
    "# scaler.fit(x_train)\n",
    "# x_train_scaled = scaler.transform(x_train)\n",
    "# x_test_scaled = scaler.transform(x_test)\n",
    "\n",
    "model = LogisticRegression(multi_class='auto', max_iter=1000)\n",
    "model.fit(x_train, y_train)\n",
    "y_pred = model.predict(x_test)\n",
    "\n",
    "accuracy = metrics.accuracy_score(y_test, y_pred)\n",
    "print(\"Accuracy: \\n\", round(accuracy * 100, 2))\n",
    "\n",
    "report = metrics.classification_report(y_test, y_pred)\n",
    "print('Report: \\n', report)\n",
    "\n",
    "matrix = metrics.confusion_matrix(y_test, y_pred)\n",
    "print('Matrix: \\n', matrix)\n",
    "\n",
    "# y_pred_proba = model.predict_proba(x_test_scaled)[:, 1]\n",
    "# fpr, tpr, _ = metrics.roc_curve(y_test, y_pred_proba)\n",
    "# auc = metrics.roc_auc_score(y_test, y_pred_proba)\n",
    "# print('AUC: \\n', auc)\n",
    "# plt.plot(fpr, tpr, label=f\"AUC={str(auc)}\")\n",
    "# plt.legend(loc=4)\n",
    "# plt.show()"
   ],
   "id": "initial_id",
   "execution_count": 22,
   "outputs": []
  },
  {
   "metadata": {
    "ExecuteTime": {
     "end_time": "2024-05-05T10:51:40.880926Z",
     "start_time": "2024-05-05T10:51:40.566590Z"
    }
   },
   "cell_type": "code",
   "source": [
    "import pandas as pd\n",
    "import seaborn as sns\n",
    "from sklearn.model_selection import train_test_split\n",
    "from sklearn.linear_model import LogisticRegression\n",
    "from sklearn import metrics\n",
    "from sklearn import datasets\n",
    "from sklearn.preprocessing import MinMaxScaler\n",
    "import matplotlib.pyplot as plt\n",
    "\n",
    "iris = datasets.load_iris()\n",
    "\n",
    "x = iris.data\n",
    "y = iris.target\n",
    "df = pd.DataFrame(data=x)\n",
    "print(df)\n",
    "\n",
    "x_train, x_test, y_train, y_test = train_test_split(x, y, test_size=0.1, random_state=42)\n",
    "\n",
    "#data preprocessing\n",
    "scaler = MinMaxScaler()\n",
    "scaler.fit(x_train)\n",
    "x_train_scaled = scaler.transform(x_train)\n",
    "x_test_scaled = scaler.transform(x_test)\n",
    "\n",
    "model = LogisticRegression(multi_class='auto', max_iter=1000)\n",
    "model.fit(x_train_scaled, y_train)\n",
    "y_pred = model.predict(x_test_scaled)\n",
    "\n",
    "accuracy = metrics.accuracy_score(y_test, y_pred)\n",
    "print(\"Accuracy: \\n\", round(accuracy * 100, 2))\n",
    "\n",
    "report = metrics.classification_report(y_test, y_pred)\n",
    "print('Report: \\n', report)\n",
    "\n",
    "matrix = metrics.confusion_matrix(y_test, y_pred)\n",
    "print('Matrix: \\n', matrix)\n",
    "\n",
    "sns.heatmap(matrix, annot=True, cmap=\"Blues\", xticklabels=iris.target_names, yticklabels=iris.target_names)\n",
    "plt.xlabel('Predicted')\n",
    "plt.ylabel('Given')\n",
    "plt.title('Confusion matrix')\n",
    "plt.show()\n",
    "# y_pred_proba = model.predict_proba(x_test_scaled)[:, 1]\n",
    "# fpr, tpr, _ = metrics.roc_curve(y_test, y_pred_proba)\n",
    "# auc = metrics.roc_auc_score(y_test, y_pred_proba)\n",
    "# print('AUC: \\n', auc)\n",
    "# plt.plot(fpr, tpr, label=f\"AUC={str(auc)}\")\n",
    "# plt.legend(loc=4)\n",
    "# plt.show()"
   ],
   "id": "76b477d41e6740d9",
   "execution_count": 45,
   "outputs": []
  }
 ],
 "metadata": {
  "kernelspec": {
   "display_name": "Python 3",
   "language": "python",
   "name": "python3"
  },
  "language_info": {
   "codemirror_mode": {
    "name": "ipython",
    "version": 2
   },
   "file_extension": ".py",
   "mimetype": "text/x-python",
   "name": "python",
   "nbconvert_exporter": "python",
   "pygments_lexer": "ipython2",
   "version": "2.7.6"
  }
 },
 "nbformat": 4,
 "nbformat_minor": 5
}
