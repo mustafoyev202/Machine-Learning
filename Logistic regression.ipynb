{
 "cells": [
  {
   "cell_type": "code",
   "id": "initial_id",
   "metadata": {
    "collapsed": true,
    "ExecuteTime": {
     "end_time": "2024-05-04T15:03:51.419098Z",
     "start_time": "2024-05-04T15:03:50.522633Z"
    }
   },
   "source": [
    "import pandas as pd\n",
    "\n",
    "data = pd.read_csv('C:\\\\Users\\\\MuxtorovicH\\\\Desktop\\\\diabetes.csv')\n",
    "data"
   ],
   "execution_count": 1,
   "outputs": []
  },
  {
   "metadata": {
    "ExecuteTime": {
     "end_time": "2024-05-04T15:19:17.467440Z",
     "start_time": "2024-05-04T15:19:17.455801Z"
    }
   },
   "cell_type": "code",
   "source": [
    "from sklearn.model_selection import train_test_split\n",
    "\n",
    "x = data.drop('Outcome', axis=1)\n",
    "y = data['Outcome']\n",
    "\n",
    "x_train, x_test, y_train, y_test = train_test_split(x, y, test_size=0.25, random_state=0)\n",
    "print(x_train.shape, x_test.shape)\n",
    "\n",
    "\n",
    "\n",
    "\n"
   ],
   "id": "892abd0acefc8c5b",
   "execution_count": 4,
   "outputs": []
  },
  {
   "metadata": {
    "ExecuteTime": {
     "end_time": "2024-05-04T15:26:08.575683Z",
     "start_time": "2024-05-04T15:26:08.518774Z"
    }
   },
   "cell_type": "code",
   "source": [
    "from sklearn.linear_model import LogisticRegression\n",
    "\n",
    "model = LogisticRegression(max_iter=1000)\n",
    "model.fit(x_train, y_train)\n",
    "y_pred = model.predict(x_test)"
   ],
   "id": "3b2264fa0d878c23",
   "execution_count": 6,
   "outputs": []
  },
  {
   "metadata": {
    "ExecuteTime": {
     "end_time": "2024-05-04T17:08:58.856889Z",
     "start_time": "2024-05-04T17:08:58.823854Z"
    }
   },
   "cell_type": "code",
   "source": [
    "from sklearn import metrics\n",
    "\n",
    "accuracy = metrics.accuracy_score(y_test, y_pred)\n",
    "print(accuracy)\n",
    "\n",
    "report = metrics.classification_report(y_test, y_pred)\n",
    "print(report)\n",
    "\n",
    "matrix = metrics.confusion_matrix(y_test, y_pred)\n",
    "print(matrix)"
   ],
   "id": "c41415b3578f8314",
   "execution_count": 9,
   "outputs": []
  },
  {
   "metadata": {
    "ExecuteTime": {
     "end_time": "2024-05-05T04:48:22.940082Z",
     "start_time": "2024-05-05T04:48:22.736320Z"
    }
   },
   "cell_type": "code",
   "source": [
    "import matplotlib.pyplot as plt\n",
    "\n",
    "y_pred_proba = model.predict_proba(x_test)[:, 1]\n",
    "fpr, tpr, thresholds = metrics.roc_curve(y_test, y_pred_proba)\n",
    "auc = metrics.roc_auc_score(y_test, y_pred_proba)\n",
    "plt.plot(fpr, tpr, label=f\"AUC={str(auc)}\")\n",
    "plt.legend(loc=4)\n",
    "plt.show()"
   ],
   "id": "e6e3429f2b085b7a",
   "execution_count": 15,
   "outputs": []
  },
  {
   "metadata": {},
   "cell_type": "markdown",
   "source": [
    "### Summary:                                                                                                                                        \n",
    "1)import libraries                                                                                                                               2)dataset load                                                                                                                               3)data preparation                                                                                                                         4)model create                                                                                                                                5)train the model                                                                                                                         6)predict(with test)                                                                                                                        7)evaluate the model                                                                                                                             8)plot\n"
   ],
   "id": "b991456781fb68a"
  },
  {
   "metadata": {},
   "cell_type": "markdown",
   "source": "",
   "id": "5a228c95f75198ae"
  },
  {
   "metadata": {
    "ExecuteTime": {
     "end_time": "2024-05-05T06:01:45.234139Z",
     "start_time": "2024-05-05T06:01:42.898716Z"
    }
   },
   "cell_type": "code",
   "source": [
    "#libraries\n",
    "import pandas as pd\n",
    "from sklearn.model_selection import train_test_split\n",
    "from sklearn.linear_model import LogisticRegression\n",
    "from sklearn import metrics\n",
    "import matplotlib.pyplot as plt\n",
    "#dataset load\n",
    "data = pd.read_csv('C:\\\\Users\\\\MuxtorovicH\\\\Desktop\\\\diabetes.csv')\n",
    "#data preparation\n",
    "x = data.drop('Outcome', axis=1)\n",
    "y = data['Outcome']\n",
    "\n",
    "x_train, x_test, y_train, y_test = train_test_split(x, y, test_size=0.25, random_state=0)\n",
    "#model creation\n",
    "model = LogisticRegression(max_iter=1000)\n",
    "#model training\n",
    "model.fit(x_train, y_train)\n",
    "#predict\n",
    "y_pred = model.predict(x_test)\n",
    "#evaluation\n",
    "accuracy = metrics.accuracy_score(y_test, y_pred)\n",
    "\n",
    "report = metrics.classification_report(y_test, y_pred)\n",
    "\n",
    "matrix = metrics.confusion_matrix(y_test, y_pred)\n",
    "\n",
    "y_pred_proba = model.predict_proba(x_test)[:, 1]\n",
    "fpr, tpr, _ = metrics.roc_curve(y_test, y_pred_proba)\n",
    "auc = metrics.roc_auc_score(y_test, y_pred_proba)\n",
    "plt.plot(fpr, tpr, label=f\"AUC={str(auc)}\")\n",
    "plt.legend(loc=4)\n",
    "plt.show()\n",
    "\n"
   ],
   "id": "fecff9ff9b509252",
   "execution_count": 16,
   "outputs": []
  },
  {
   "metadata": {},
   "cell_type": "code",
   "execution_count": null,
   "source": "",
   "id": "1d74c6892082d835",
   "outputs": []
  }
 ],
 "metadata": {
  "kernelspec": {
   "display_name": "Python 3",
   "language": "python",
   "name": "python3"
  },
  "language_info": {
   "codemirror_mode": {
    "name": "ipython",
    "version": 2
   },
   "file_extension": ".py",
   "mimetype": "text/x-python",
   "name": "python",
   "nbconvert_exporter": "python",
   "pygments_lexer": "ipython2",
   "version": "2.7.6"
  }
 },
 "nbformat": 4,
 "nbformat_minor": 5
}
