{
 "cells": [
  {
   "cell_type": "code",
   "id": "initial_id",
   "metadata": {
    "collapsed": true,
    "ExecuteTime": {
     "end_time": "2024-05-01T13:32:44.330615Z",
     "start_time": "2024-05-01T13:32:43.422622Z"
    }
   },
   "source": [
    "import pandas as pd\n",
    "\n",
    "data = pd.read_csv('C:\\\\Users\\\\MuxtorovicH\\\\Desktop\\\\prostate.csv')\n",
    "data.shape"
   ],
   "outputs": [
    {
     "data": {
      "text/plain": [
       "(97, 9)"
      ]
     },
     "execution_count": 39,
     "metadata": {},
     "output_type": "execute_result"
    }
   ],
   "execution_count": 39
  },
  {
   "metadata": {
    "ExecuteTime": {
     "end_time": "2024-05-01T13:34:18.785493Z",
     "start_time": "2024-05-01T13:34:18.722012Z"
    }
   },
   "cell_type": "code",
   "source": [
    "x = data[['lcavol', 'lweight', 'age', 'lbph', 'lcp', 'gleason', 'pgg45']].values\n",
    "y = data['lpsa'].values\n",
    "\n",
    "is_train = data['svi'] == 0\n",
    "\n",
    "x_train, y_train = x[is_train], y[is_train]\n",
    "x_test, y_test = x[~is_train], y[~is_train]\n",
    "\n",
    "print(x_train.shape, x_test.shape)"
   ],
   "id": "502e151adf790c7d",
   "outputs": [
    {
     "name": "stdout",
     "output_type": "stream",
     "text": [
      "(76, 7) (21, 7)\n"
     ]
    }
   ],
   "execution_count": 41
  },
  {
   "metadata": {},
   "cell_type": "code",
   "source": [
    "from sklearn.preprocessing import StandardScaler\n",
    "from sklearn.linear_model import Lasso\n",
    "from sklearn.metrics import mean_squared_error, mean_absolute_error, r2_score\n",
    "\n",
    "scaler = StandardScaler()\n",
    "scaler.fit(x_train)\n",
    "x_train_scaled = scaler.transform(x_train)\n",
    "x_test_scaled = scaler.transform(x_test)\n",
    "\n",
    "lasso_regressor = Lasso(alpha=0.01)\n",
    "\n",
    "lasso_regressor.fit(x_train_scaled, y_train)\n",
    "\n",
    "y_pred = lasso_regressor.predict(x_test_scaled)\n",
    "\n",
    "mse = mean_squared_error(y_test, y_pred)\n",
    "mae = mean_absolute_error(y_test, y_pred)\n",
    "r2 = r2_score(y_test, y_pred)\n",
    "\n",
    "print(\"MSE:\", mse)\n",
    "print(\"MAE:\", mae)\n",
    "print(\"R2:\", r2)\n"
   ],
   "id": "c4caa9c77a7fee8f",
   "outputs": [
    {
     "name": "stdout",
     "output_type": "stream",
     "text": [
      "MSE: 1.341715061702692\n",
      "MAE: 0.9555410165598384\n",
      "R2: -0.6460791968010748\n"
     ]
    }
   ],
   "execution_count": 42
  },
  {
   "metadata": {},
   "cell_type": "markdown",
   "source": "Toy dataset creation",
   "id": "52c234d2059ced10"
  },
  {
   "metadata": {
    "ExecuteTime": {
     "end_time": "2024-05-01T14:46:27.169124Z",
     "start_time": "2024-05-01T14:46:27.054288Z"
    }
   },
   "cell_type": "code",
   "source": [
    "import numpy as np\n",
    "import pandas as pd\n",
    "from sklearn.utils import shuffle\n",
    "\n",
    "random_seed = 42\n",
    "np.random.seed(random_seed)\n",
    "\n",
    "x = np.random.uniform(low=1, high=10, size=(100, 1))\n",
    "#y = x * 2\n",
    "y = x * 2+np.random.normal(loc=0,scale=2,size=(100, 1))\n",
    "\n",
    "data = pd.DataFrame({'Input': x.flatten(), 'Output': y.flatten()})\n",
    "data = shuffle(data, random_state=random_seed)\n",
    "data.to_csv('toy_dataset_1.csv', index=False)"
   ],
   "id": "32c650ce59bc598b",
   "outputs": [],
   "execution_count": 65
  },
  {
   "metadata": {
    "ExecuteTime": {
     "end_time": "2024-05-01T14:46:27.700057Z",
     "start_time": "2024-05-01T14:46:27.677643Z"
    }
   },
   "cell_type": "code",
   "source": [
    "import pandas as pd\n",
    "\n",
    "data = pd.read_csv('toy_dataset_1.csv')\n",
    "data.shape"
   ],
   "id": "3632b9c0f49bb6ef",
   "outputs": [
    {
     "data": {
      "text/plain": [
       "(100, 2)"
      ]
     },
     "execution_count": 66,
     "metadata": {},
     "output_type": "execute_result"
    }
   ],
   "execution_count": 66
  },
  {
   "metadata": {
    "ExecuteTime": {
     "end_time": "2024-05-01T14:46:28.547068Z",
     "start_time": "2024-05-01T14:46:28.517980Z"
    }
   },
   "cell_type": "code",
   "source": [
    "from sklearn.linear_model import LinearRegression\n",
    "from sklearn.model_selection import train_test_split\n",
    "from sklearn.metrics import mean_squared_error, mean_absolute_error, r2_score\n",
    "\n",
    "x = data[['Input']].values\n",
    "y = data['Output'].values\n",
    "\n",
    "x_train, x_test, y_train, y_test = train_test_split(x, y, test_size=0.3, random_state=55)\n",
    "\n",
    "regressor = LinearRegression()\n",
    "\n",
    "regressor.fit(x_train, y_train)\n",
    "\n",
    "y_pred = regressor.predict(x_test)\n",
    "\n",
    "mse = mean_squared_error(y_test, y_pred)\n",
    "mae = mean_absolute_error(y_test, y_pred)\n",
    "r2 = r2_score(y_test, y_pred)\n",
    "\n",
    "print(\"MSE:\", mse)\n",
    "print(\"MAE:\", mae)\n",
    "print(\"R2:\", r2)\n",
    "\n",
    "\n"
   ],
   "id": "b87b4a2b9e4b8085",
   "outputs": [
    {
     "name": "stdout",
     "output_type": "stream",
     "text": [
      "MSE: 2.659430857821965\n",
      "MAE: 1.2846889872569867\n",
      "R2: 0.9106885164663922\n"
     ]
    }
   ],
   "execution_count": 67
  },
  {
   "metadata": {
    "ExecuteTime": {
     "end_time": "2024-05-01T14:46:29.526626Z",
     "start_time": "2024-05-01T14:46:29.387173Z"
    }
   },
   "cell_type": "code",
   "source": [
    "import matplotlib.pyplot as plt\n",
    "plt.scatter(x_test, y_test, color='blue',label='Test')\n",
    "plt.plot(x_test,y_pred,color='red',label='Predicted')\n",
    "plt.xlabel(\"Input\")\n",
    "plt.ylabel(\"Output\")\n",
    "plt.legend()\n",
    "plt.show()"
   ],
   "id": "daa4540befeaa0fc",
   "outputs": [
    {
     "data": {
      "text/plain": [
       "<Figure size 640x480 with 1 Axes>"
      ],
      "image/png": "[encoded data removed]"
     },
     "metadata": {},
     "output_type": "display_data"
    }
   ],
   "execution_count": 68
  },
  {
   "metadata": {},
   "cell_type": "code",
   "outputs": [],
   "execution_count": null,
   "source": "",
   "id": "6a34ee17217ea063"
  }
 ],
 "metadata": {
  "kernelspec": {
   "display_name": "Python 3",
   "language": "python",
   "name": "python3"
  },
  "language_info": {
   "codemirror_mode": {
    "name": "ipython",
    "version": 2
   },
   "file_extension": ".py",
   "mimetype": "text/x-python",
   "name": "python",
   "nbconvert_exporter": "python",
   "pygments_lexer": "ipython2",
   "version": "2.7.6"
  }
 },
 "nbformat": 4,
 "nbformat_minor": 5
}
