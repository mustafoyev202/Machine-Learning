{
 "cells": [
  {
   "cell_type": "code",
   "id": "initial_id",
   "metadata": {
    "collapsed": true,
    "ExecuteTime": {
     "end_time": "2024-05-12T08:09:56.144478Z",
     "start_time": "2024-05-12T08:09:55.618171Z"
    }
   },
   "source": [
    "import pandas as pd\n",
    "from sklearn.preprocessing import StandardScaler\n",
    "from sklearn.model_selection import train_test_split\n",
    "from sklearn.neural_network import MLPClassifier\n",
    "from sklearn import metrics\n",
    "import matplotlib.pyplot as plt\n",
    "\n",
    "#dataset load\n",
    "data = pd.read_csv('C:\\\\Users\\\\MuxtorovicH\\\\Desktop\\\\diabetes.csv')\n",
    "#data preparation\n",
    "x = data.drop('Outcome', axis=1)\n",
    "y = data['Outcome']\n",
    "\n",
    "x_train, x_test, y_train, y_test = train_test_split(x, y, test_size=0.25, random_state=0)\n",
    "\n",
    "#data preprocessing\n",
    "scaler = StandardScaler()\n",
    "scaler.fit(x_train)\n",
    "x_train = scaler.transform(x_train)\n",
    "x_test = scaler.transform(x_test)\n",
    "\n",
    "#model creation\n",
    "model = MLPClassifier(hidden_layer_sizes=1, max_iter=500, random_state=0)\n",
    "#model training\n",
    "model.fit(x_train, y_train)\n",
    "#predict\n",
    "y_pred = model.predict(x_test)\n",
    "#evaluation\n",
    "accuracy = metrics.accuracy_score(y_test, y_pred)\n",
    "print('Accuracy: ', accuracy * 100)\n",
    "\n",
    "report = metrics.classification_report(y_test, y_pred)\n",
    "print('Report', report)\n",
    "\n",
    "matrix = metrics.confusion_matrix(y_test, y_pred)\n",
    "print('Confusion Matrix', matrix)\n",
    "\n",
    "y_pred_proba = model.predict_proba(x_test)[::, 1]\n",
    "fpr, tpr, _ = metrics.roc_curve(y_test, y_pred_proba)\n",
    "auc = metrics.roc_auc_score(y_test, y_pred_proba)\n",
    "plt.plot(fpr, tpr, label=f\"AUC={str(auc)}\")\n",
    "plt.legend(loc=4)\n",
    "plt.show()"
   ],
   "outputs": [
    {
     "name": "stdout",
     "output_type": "stream",
     "text": [
      "Accuracy:  82.8125\n",
      "Report               precision    recall  f1-score   support\n",
      "\n",
      "           0       0.83      0.93      0.88       130\n",
      "           1       0.81      0.61      0.70        62\n",
      "\n",
      "    accuracy                           0.83       192\n",
      "   macro avg       0.82      0.77      0.79       192\n",
      "weighted avg       0.83      0.83      0.82       192\n",
      "\n",
      "Confusion Matrix [[121   9]\n",
      " [ 24  38]]\n"
     ]
    },
    {
     "data": {
      "text/plain": [
       "<Figure size 640x480 with 1 Axes>"
      ],
      "image/png": "[encoded data removed]"
     },
     "metadata": {},
     "output_type": "display_data"
    }
   ],
   "execution_count": 19
  },
  {
   "metadata": {},
   "cell_type": "markdown",
   "source": "### Neural network implementation from scratch\n",
   "id": "3ff6850cbddce310"
  },
  {
   "metadata": {
    "ExecuteTime": {
     "end_time": "2024-05-12T16:41:27.427830Z",
     "start_time": "2024-05-12T16:41:27.011690Z"
    }
   },
   "cell_type": "code",
   "source": [
    "import numpy as np\n",
    "import pandas as pd\n",
    "from sklearn.preprocessing import StandardScaler\n",
    "from sklearn.model_selection import train_test_split\n",
    "from sklearn import metrics\n",
    "import matplotlib.pyplot as plt\n",
    "\n",
    "# Load dataset\n",
    "data = pd.read_csv('C:\\\\Users\\\\MuxtorovicH\\\\Desktop\\\\diabetes.csv')\n",
    "\n",
    "# Prepare data\n",
    "x = data.drop('Outcome', axis=1)\n",
    "y = data['Outcome']\n",
    "x_train, x_test, y_train, y_test = train_test_split(x, y, test_size=0.25, random_state=0)\n",
    "\n",
    "# Data preprocessing\n",
    "scaler = StandardScaler()\n",
    "x_train = scaler.fit_transform(x_train)\n",
    "x_test = scaler.transform(x_test)\n",
    "\n",
    "\n",
    "class NeuralNetworkFromScratch:\n",
    "    def __init__(self, input_size, hidden_size1, hidden_size2, output_size):\n",
    "        self.weights1 = np.random.rand(input_size, hidden_size1)\n",
    "        self.bias1 = np.zeros((1, hidden_size1))\n",
    "        self.weights2 = np.random.rand(hidden_size1, hidden_size2)\n",
    "        self.bias2 = np.zeros((1, hidden_size2))\n",
    "        self.weights3 = np.random.rand(hidden_size2, output_size)\n",
    "        self.bias3 = np.zeros((1, output_size))\n",
    "\n",
    "    def sigmoid(self, z):\n",
    "        return 1 / (1 + np.exp(-z))\n",
    "\n",
    "    def sigmoid_derivative(self, z):\n",
    "        return z * (1 - z)\n",
    "\n",
    "    def forward(self, x):\n",
    "        self.hidden1 = self.sigmoid(np.dot(x, self.weights1) + self.bias1)\n",
    "        self.hidden2 = self.sigmoid(np.dot(self.hidden1, self.weights2) + self.bias2)\n",
    "        self.output = self.sigmoid(np.dot(self.hidden2, self.weights3) + self.bias3)\n",
    "        return self.output\n",
    "\n",
    "    def backward(self, x, y, learning_rate):\n",
    "        error_output = y - self.output\n",
    "        d_output = error_output * self.sigmoid_derivative(self.output)\n",
    "        error_hidden2 = d_output.dot(self.weights3.T)\n",
    "        d_hidden2 = error_hidden2 * self.sigmoid_derivative(self.hidden2)\n",
    "        error_hidden1 = d_hidden2.dot(self.weights2.T)\n",
    "        d_hidden1 = error_hidden1 * self.sigmoid_derivative(self.hidden1)\n",
    "\n",
    "        self.weights3 += self.hidden2.T.dot(d_output) * learning_rate\n",
    "        self.bias3 += np.sum(d_output, axis=0, keepdims=True) * learning_rate\n",
    "\n",
    "        self.weights2 += self.hidden1.T.dot(d_hidden2) * learning_rate\n",
    "        self.bias2 += np.sum(d_hidden2, axis=0, keepdims=True) * learning_rate\n",
    "\n",
    "        self.weights1 += x.T.dot(d_hidden1) * learning_rate\n",
    "        self.bias1 += np.sum(d_hidden1, axis=0, keepdims=True) * learning_rate\n",
    "\n",
    "    def fit(self, x, y, learning_rate, epochs):\n",
    "        for epoch in range(epochs):\n",
    "            output = self.forward(x)\n",
    "            self.backward(x, y, learning_rate)\n",
    "            if epoch % 100 == 0:\n",
    "                loss = np.mean(np.square(y - output))\n",
    "                print(f\"Epoch {epoch} loss: {loss}\")\n",
    "\n",
    "    def predict(self, x):\n",
    "        return np.round(self.forward(x))\n",
    "\n",
    "\n",
    "# Model parameters\n",
    "input_layer_size = x_train.shape[1]\n",
    "hidden_layer_size1 = 10  # Example size\n",
    "hidden_layer_size2 = 10  # Example size\n",
    "output_layer_size = 1\n",
    "learning_rate = 0.01\n",
    "epochs = 1000\n",
    "\n",
    "# Create and train the model\n",
    "model = NeuralNetworkFromScratch(input_layer_size, hidden_layer_size1, hidden_layer_size2, output_layer_size)\n",
    "model.fit(x_train, y_train.to_numpy().reshape(-1, 1), learning_rate, epochs)\n",
    "\n",
    "# Predict and evaluate\n",
    "y_pred = model.predict(x_test)\n",
    "accuracy = metrics.accuracy_score(y_test, y_pred)\n",
    "print('Accuracy: ', accuracy * 100)\n",
    "\n",
    "report = metrics.classification_report(y_test, y_pred)\n",
    "print('Report:\\n', report)\n",
    "\n",
    "matrix = metrics.confusion_matrix(y_test, y_pred)\n",
    "print('Confusion Matrix:\\n', matrix)\n",
    "\n",
    "\n",
    "# y_pred_proba = model.predict_proba(x_test)[::, 1]\n",
    "# fpr, tpr, _ = metrics.roc_curve(y_test, y_pred_proba)\n",
    "# auc = metrics.roc_auc_score(y_test, y_pred_proba)\n",
    "# plt.plot(fpr, tpr, label=f\"AUC={str(auc)}\")\n",
    "# plt.legend(loc=4)\n",
    "# plt.show()"
   ],
   "id": "4a393f74e13ee9a6",
   "outputs": [
    {
     "name": "stdout",
     "output_type": "stream",
     "text": [
      "Epoch 0 loss: 0.5911590532511897\n",
      "Epoch 100 loss: 0.1933625464311709\n",
      "Epoch 200 loss: 0.16206972849552725\n",
      "Epoch 300 loss: 0.15705396854117537\n",
      "Epoch 400 loss: 0.15513629712854804\n",
      "Epoch 500 loss: 0.15269440746415758\n",
      "Epoch 600 loss: 0.14986337012461698\n",
      "Epoch 700 loss: 0.14705821925624304\n",
      "Epoch 800 loss: 0.1442659491808883\n",
      "Epoch 900 loss: 0.1406987183174095\n",
      "Accuracy:  75.0\n",
      "Report:\n",
      "               precision    recall  f1-score   support\n",
      "\n",
      "           0       0.79      0.86      0.82       130\n",
      "           1       0.64      0.52      0.57        62\n",
      "\n",
      "    accuracy                           0.75       192\n",
      "   macro avg       0.71      0.69      0.70       192\n",
      "weighted avg       0.74      0.75      0.74       192\n",
      "\n",
      "Confusion Matrix:\n",
      " [[112  18]\n",
      " [ 30  32]]\n"
     ]
    }
   ],
   "execution_count": 41
  },
  {
   "metadata": {
    "ExecuteTime": {
     "end_time": "2024-05-12T16:37:15.259286Z",
     "start_time": "2024-05-12T16:37:15.252594Z"
    }
   },
   "cell_type": "code",
   "source": [
    "y_pred_train = model.predict(x_train)\n",
    "acc = metrics.accuracy_score(y_train, y_pred_train)\n",
    "print(\"Accuracy\", acc * 100)"
   ],
   "id": "bd60e1ba1f8268fb",
   "outputs": [
    {
     "name": "stdout",
     "output_type": "stream",
     "text": [
      "Accuracy 83.15972222222221\n"
     ]
    }
   ],
   "execution_count": 40
  },
  {
   "metadata": {},
   "cell_type": "markdown",
   "source": "### Test_accuracy=73 || Train_accuracy=95   --> Overfitting",
   "id": "8708b3c1852bf8ae"
  },
  {
   "metadata": {},
   "cell_type": "markdown",
   "source": "###   Test_accuracy=78 || Train_accuracy=82   --> Underfitting",
   "id": "1bb5ea58d3361d2d"
  }
 ],
 "metadata": {
  "kernelspec": {
   "display_name": "Python 3",
   "language": "python",
   "name": "python3"
  },
  "language_info": {
   "codemirror_mode": {
    "name": "ipython",
    "version": 2
   },
   "file_extension": ".py",
   "mimetype": "text/x-python",
   "name": "python",
   "nbconvert_exporter": "python",
   "pygments_lexer": "ipython2",
   "version": "2.7.6"
  }
 },
 "nbformat": 4,
 "nbformat_minor": 5
}
